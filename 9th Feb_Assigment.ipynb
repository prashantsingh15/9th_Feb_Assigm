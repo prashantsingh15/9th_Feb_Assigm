{
 "cells": [
  {
   "cell_type": "markdown",
   "id": "b2c77935",
   "metadata": {},
   "source": [
    "- Q1, Create a vehicle class with an init method having instance variables as name_of_vehicle, max_speed\n",
    "and average_of_vehicle."
   ]
  },
  {
   "cell_type": "code",
   "execution_count": 11,
   "id": "a402f3ef",
   "metadata": {},
   "outputs": [],
   "source": [
    "class Vehicle:\n",
    "    def __init__(self, name_of_vehicle, max_speed, average_of_vehicle):\n",
    "        self.name_of_vehicle = name_of_vehicle\n",
    "        self.max_speed = max_speed\n",
    "        self.average_of_vehicle = average_of_vehicle\n"
   ]
  },
  {
   "cell_type": "code",
   "execution_count": 12,
   "id": "de62a9c9",
   "metadata": {},
   "outputs": [
    {
     "name": "stdout",
     "output_type": "stream",
     "text": [
      "Toyota Camry\n",
      "180\n",
      "30\n"
     ]
    }
   ],
   "source": [
    "car = Vehicle(\"Toyota Camry\", 180, 30)\n",
    "print(car.name_of_vehicle) \n",
    "print(car.max_speed)  \n",
    "print(car.average_of_vehicle)  \n"
   ]
  },
  {
   "cell_type": "markdown",
   "id": "fe07c513",
   "metadata": {},
   "source": [
    "- Q2. Create a child class car from the vehicle class created in Que 1, which will inherit the vehicle class.Create a method named seating_capacity which takes capacity as an argument and returns the name of the vehicle and its seating capacity."
   ]
  },
  {
   "cell_type": "code",
   "execution_count": 19,
   "id": "fb9fbf10",
   "metadata": {},
   "outputs": [],
   "source": [
    "class Car(Vehicle):\n",
    "    def seating_capacity(self, capacity):\n",
    "        return f\"{self.name_of_vehicle} has a seating capacity of {capacity} people.\"\n"
   ]
  },
  {
   "cell_type": "code",
   "execution_count": 20,
   "id": "639165e6",
   "metadata": {},
   "outputs": [
    {
     "name": "stdout",
     "output_type": "stream",
     "text": [
      "Toyota Camry has a seating capacity of 5 people.\n"
     ]
    }
   ],
   "source": [
    "car = Car(\"Toyota Camry\", 180, 30)\n",
    "print(car.seating_capacity(5))\n"
   ]
  },
  {
   "cell_type": "markdown",
   "id": "f08b1d56",
   "metadata": {},
   "source": [
    "- Q3. What is multiple inheritance? Write a python code to demonstrate multiple inheritance.\n",
    "\n",
    "\n",
    "- Ans --> Multiple inheritance is a feature in object-oriented programming where a class can inherit attributes and methods from more than one parent class. This allows a derived class to inherit and combine functionalities from multiple base classes."
   ]
  },
  {
   "cell_type": "code",
   "execution_count": 22,
   "id": "b769e09f",
   "metadata": {},
   "outputs": [
    {
     "name": "stdout",
     "output_type": "stream",
     "text": [
      "Sparrow is eating.\n",
      "Sparrow is flying.\n"
     ]
    }
   ],
   "source": [
    "class Animal:\n",
    "    def __init__(self, name):\n",
    "        self.name = name\n",
    "        \n",
    "    def eat(self):\n",
    "        print(f\"{self.name} is eating.\")\n",
    "        \n",
    "class Flyable:\n",
    "    def fly(self):\n",
    "        print(f\"{self.name} is flying.\")\n",
    "        \n",
    "class Bird(Animal, Flyable):\n",
    "    def __init__(self, name):\n",
    "        super().__init__(name)\n",
    "        \n",
    "bird = Bird(\"Sparrow\")\n",
    "bird.eat()\n",
    "bird.fly()"
   ]
  },
  {
   "cell_type": "markdown",
   "id": "70abb060",
   "metadata": {},
   "source": [
    "- Q4. What are getter and setter in python? Create a class and create a getter and a setter method in this class.\n",
    "\n",
    "\n",
    "\n",
    "\n",
    "\n",
    "- Ans -->  Getters and Setters are methods used to control the access and modification of class attributes. They provide an interface for retrieving and updating the values of private attributes, allowing for more controlled and encapsulated access to the class's data."
   ]
  },
  {
   "cell_type": "code",
   "execution_count": 23,
   "id": "de3410d0",
   "metadata": {},
   "outputs": [
    {
     "name": "stdout",
     "output_type": "stream",
     "text": [
      "Prashant\n",
      "Sushant\n"
     ]
    }
   ],
   "source": [
    "class Person:\n",
    "    def __init__(self, name):\n",
    "        self._name = name\n",
    "        \n",
    "    def get_name(self):\n",
    "        return self._name\n",
    "    \n",
    "    def set_name(self, name):\n",
    "        self._name = name\n",
    "        \n",
    "person = Person(\"Prashant\")\n",
    "print(person.get_name())\n",
    "\n",
    "person.set_name(\"Sushant\")\n",
    "print(person.get_name())"
   ]
  },
  {
   "cell_type": "markdown",
   "id": "25de296f",
   "metadata": {},
   "source": [
    "- Q5.What is method overriding in python? Write a python code to demonstrate method overriding.\n",
    "\n",
    "\n",
    "- Ans ---> Method overriding in Python occurs when a subclass defines a method with the same name as a method in its superclass. The subclass method overrides the implementation of the superclass method, providing a new implementation specific to the subclass."
   ]
  },
  {
   "cell_type": "code",
   "execution_count": 24,
   "id": "8eb0c8e9",
   "metadata": {},
   "outputs": [
    {
     "name": "stdout",
     "output_type": "stream",
     "text": [
      "Animal is making a sound.\n",
      "Dog is Breaking.\n"
     ]
    }
   ],
   "source": [
    "class Animal:\n",
    "    def make_sound(self):\n",
    "        print(\"Animal is making a sound.\")\n",
    "        \n",
    "class Dog(Animal):\n",
    "    def make_sound(self):\n",
    "        print(\"Dog is Breaking.\")\n",
    "        \n",
    "animal = Animal()\n",
    "animal.make_sound()\n",
    "\n",
    "dog = Dog()\n",
    "dog.make_sound()"
   ]
  },
  {
   "cell_type": "code",
   "execution_count": null,
   "id": "5890364f",
   "metadata": {},
   "outputs": [],
   "source": []
  }
 ],
 "metadata": {
  "kernelspec": {
   "display_name": "Python 3 (ipykernel)",
   "language": "python",
   "name": "python3"
  },
  "language_info": {
   "codemirror_mode": {
    "name": "ipython",
    "version": 3
   },
   "file_extension": ".py",
   "mimetype": "text/x-python",
   "name": "python",
   "nbconvert_exporter": "python",
   "pygments_lexer": "ipython3",
   "version": "3.11.2"
  }
 },
 "nbformat": 4,
 "nbformat_minor": 5
}
